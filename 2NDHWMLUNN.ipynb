{
 "cells": [
  {
   "cell_type": "code",
   "execution_count": 48,
   "id": "1f1068af",
   "metadata": {},
   "outputs": [],
   "source": [
    "import numpy as np\n",
    "import pandas as pd\n",
    "\n",
    "import sklearn\n",
    "from sklearn.model_selection import train_test_split\n",
    "import sklearn.metrics\n",
    "\n",
    "import matplotlib.pyplot as plt\n",
    "from sklearn.neural_network import MLPClassifier"
   ]
  },
  {
   "cell_type": "markdown",
   "id": "ccd02b79",
   "metadata": {},
   "source": [
    "для начала обработаем наш датасет"
   ]
  },
  {
   "cell_type": "code",
   "execution_count": 49,
   "id": "652ec64e",
   "metadata": {},
   "outputs": [],
   "source": [
    "url = \"https://raw.githubusercontent.com/paveladim/csvcorr/master/traindatacredcard.csv\"\n",
    "data_raw = pd.read_csv(url)\n",
    "url = \"https://raw.githubusercontent.com/paveladim/csvcorr/master/testdatacredcard.csv\"\n",
    "data_raw1 = pd.read_csv(url)\n",
    "\n",
    "# заполним столбец Is_Lead в тестовой выборке значением моды из обучающей выборки\n",
    "_mode = data_raw['Is_Lead'].mode()\n",
    "additional_column = np.zeros(len(data_raw1.index))\n",
    "for i in range(len(additional_column)): additional_column[i] = _mode\n",
    "add_column = pd.DataFrame({'Is_Lead' : additional_column})\n",
    "data_raw1 = data_raw1.drop(['Is_Lead'], axis = 1)\n",
    "data_raw1 = pd.concat((data_raw1, add_column), axis=1)\n",
    "\n",
    "data_raw.append(data_raw1)\n",
    "\n",
    "data_raw['ID'] = data_raw['ID'].astype('category')\n",
    "data_raw['Gender'] = data_raw['Gender'].astype('category')\n",
    "data_raw['Region_Code'] = data_raw['Region_Code'].astype('category')\n",
    "data_raw['Occupation'] = data_raw['Occupation'].astype('category')\n",
    "data_raw['Channel_Code'] = data_raw['Channel_Code'].astype('category')\n",
    "data_raw['Credit_Product'] = data_raw['Credit_Product'].astype('category')\n",
    "data_raw['Is_Active'] = data_raw['Is_Active'].astype('category')\n",
    "\n",
    "rows_to_drop = data_raw[\n",
    "    (data_raw['Avg_Account_Balance'] < data_raw['Avg_Account_Balance'].quantile(0.005)) \n",
    "    | (data_raw['Avg_Account_Balance'] > data_raw['Avg_Account_Balance'].quantile(0.900))].index\n",
    "\n",
    "data = data_raw.drop(rows_to_drop)\n",
    "data['Credit_Product'].fillna(data['Credit_Product'].mode().iloc[0], inplace=True)\n",
    "\n",
    "data['Gender'] = pd.factorize(data['Gender'])[0]\n",
    "data['Credit_Product'] = pd.factorize(data['Credit_Product'])[0]\n",
    "data['Is_Active'] = pd.factorize(data['Is_Active'])[0]\n",
    "\n",
    "Occupation_dummies = pd.get_dummies(data['Occupation'])\n",
    "Channel_Code_dummies = pd.get_dummies(data['Channel_Code'])\n",
    "Region_Code_dummies = pd.get_dummies(data['Region_Code'])\n",
    "\n",
    "data = pd.concat((data, Occupation_dummies), axis=1)\n",
    "data = data.drop(['Occupation'], axis=1)\n",
    "\n",
    "data = pd.concat((data, Channel_Code_dummies), axis=1)\n",
    "data = data.drop(['Channel_Code'], axis=1)\n",
    "\n",
    "data = pd.concat((data, Region_Code_dummies), axis=1)\n",
    "data = data.drop(['Region_Code'], axis=1)\n",
    "\n",
    "# уберём ID, поскольку не нужно\n",
    "data = data.drop(['ID'], axis = 1)\n",
    "data_stand = (data - data.mean(axis = 0)) / data.std(axis = 0)"
   ]
  },
  {
   "cell_type": "markdown",
   "id": "70acd09d",
   "metadata": {},
   "source": [
    "Разобьём на обучающую и тестовую выборки"
   ]
  },
  {
   "cell_type": "code",
   "execution_count": 50,
   "id": "9c7942e8",
   "metadata": {},
   "outputs": [],
   "source": [
    "X = data_stand.drop(['Is_Lead'], axis = 1)\n",
    "y = data['Is_Lead']\n",
    "X_train, X_test, y_train, y_test = train_test_split(X, y, test_size = 0.25, random_state = 66)"
   ]
  },
  {
   "cell_type": "markdown",
   "id": "c2a71fcf",
   "metadata": {},
   "source": [
    "Начнём обучение"
   ]
  },
  {
   "cell_type": "code",
   "execution_count": 51,
   "id": "0b639acd",
   "metadata": {},
   "outputs": [
    {
     "data": {
      "text/plain": [
       "MLPClassifier(activation='logistic', hidden_layer_sizes=(50, 30),\n",
       "              random_state=66, solver='sgd')"
      ]
     },
     "execution_count": 51,
     "metadata": {},
     "output_type": "execute_result"
    }
   ],
   "source": [
    "model = MLPClassifier(\n",
    "    hidden_layer_sizes = (50, 30),\n",
    "    solver = 'sgd',\n",
    "    activation = 'logistic',\n",
    "    random_state = 66\n",
    ")\n",
    "model.fit(X_train, y_train)"
   ]
  },
  {
   "cell_type": "code",
   "execution_count": 52,
   "id": "1418b6e1",
   "metadata": {},
   "outputs": [],
   "source": [
    "y_train_pred = model.predict(X_train)\n",
    "y_test_pred = model.predict(X_test)"
   ]
  },
  {
   "cell_type": "code",
   "execution_count": 53,
   "id": "c3caf700",
   "metadata": {},
   "outputs": [
    {
     "data": {
      "text/plain": [
       "(0.2233741353073486, 0.22063985740528547)"
      ]
     },
     "execution_count": 53,
     "metadata": {},
     "output_type": "execute_result"
    }
   ],
   "source": [
    "np.mean(y_train != y_train_pred), np.mean(y_test != y_test_pred)"
   ]
  },
  {
   "cell_type": "markdown",
   "id": "63ff99d4",
   "metadata": {},
   "source": [
    "Подберём гиперпараметры"
   ]
  },
  {
   "cell_type": "code",
   "execution_count": 54,
   "id": "1fdf71cd",
   "metadata": {},
   "outputs": [],
   "source": [
    "alpha_arr = np.logspace(-4, 5, 10)\n",
    "test_err = []\n",
    "train_err = []\n",
    "for alpha in alpha_arr:\n",
    "    mlp_model = MLPClassifier(\n",
    "                hidden_layer_sizes = (50, 30),\n",
    "                solver = 'sgd',\n",
    "                activation = 'logistic',\n",
    "                random_state = 66,\n",
    "                alpha = alpha\n",
    "                )\n",
    "    \n",
    "    mlp_model.fit(X_train, y_train)\n",
    "    y_train_pred = mlp_model.predict(X_train)\n",
    "    y_test_pred = mlp_model.predict(X_test)\n",
    "    train_err.append(np.mean(y_train != y_train_pred))\n",
    "    test_err.append(np.mean(y_test != y_test_pred))"
   ]
  },
  {
   "cell_type": "code",
   "execution_count": 55,
   "id": "44ea209e",
   "metadata": {},
   "outputs": [
    {
     "data": {
      "image/png": "[encoded data removed]",
      "text/plain": [
       "<Figure size 432x288 with 1 Axes>"
      ]
     },
     "metadata": {
      "needs_background": "light"
     },
     "output_type": "display_data"
    }
   ],
   "source": [
    "plt.semilogx(alpha_arr, train_err, 'r-o', label = 'train')\n",
    "plt.semilogx(alpha_arr, test_err, 'b-o', label = 'test')\n",
    "plt.xlim([np.max(alpha_arr), np.min(alpha_arr)])\n",
    "plt.title('Error vs. alpha')\n",
    "plt.xlabel('alpha')\n",
    "plt.ylabel('error')\n",
    "plt.legend()\n",
    "pass"
   ]
  },
  {
   "cell_type": "markdown",
   "id": "0f580874",
   "metadata": {},
   "source": [
    "Минимальное значение ошибки"
   ]
  },
  {
   "cell_type": "code",
   "execution_count": 56,
   "id": "cf9a768f",
   "metadata": {},
   "outputs": [
    {
     "name": "stdout",
     "output_type": "stream",
     "text": [
      "0.2233741353073486 0.22060348120259726\n"
     ]
    }
   ],
   "source": [
    "min_train_err = np.min(train_err)\n",
    "min_test_err = np.min(test_err)\n",
    "print(min_train_err, min_test_err)"
   ]
  },
  {
   "cell_type": "markdown",
   "id": "9e27444f",
   "metadata": {},
   "source": [
    "Оптимальный параметр $\\alpha$ равен"
   ]
  },
  {
   "cell_type": "code",
   "execution_count": 57,
   "id": "dbbcbe41",
   "metadata": {},
   "outputs": [
    {
     "name": "stdout",
     "output_type": "stream",
     "text": [
      "[0.01]\n"
     ]
    }
   ],
   "source": [
    "alpha_opt = alpha_arr[test_err == min_test_err]\n",
    "print(alpha_opt)"
   ]
  },
  {
   "cell_type": "code",
   "execution_count": 58,
   "id": "e0b5b17c",
   "metadata": {},
   "outputs": [],
   "source": [
    "alpha_opt = alpha_opt[0]"
   ]
  },
  {
   "cell_type": "markdown",
   "id": "2f5bfcbf",
   "metadata": {},
   "source": [
    "Классификатор при найденном $\\alpha$"
   ]
  },
  {
   "cell_type": "code",
   "execution_count": 59,
   "id": "d33e5100",
   "metadata": {},
   "outputs": [
    {
     "name": "stdout",
     "output_type": "stream",
     "text": [
      "0.23405055079633572\n",
      "0.23080700605663776\n"
     ]
    }
   ],
   "source": [
    "mlp_model = MLPClassifier(\n",
    "                hidden_layer_sizes = (100,),\n",
    "                solver = 'sgd',\n",
    "                activation = 'logistic',\n",
    "                random_state = 66,\n",
    "                alpha = alpha\n",
    "                )\n",
    "mlp_model.fit(X_train, y_train)\n",
    "\n",
    "y_train_pred = mlp_model.predict(X_train)\n",
    "y_test_pred = mlp_model.predict(X_test)\n",
    "print(np.mean(y_train != y_train_pred))\n",
    "print(np.mean(y_test != y_test_pred))"
   ]
  },
  {
   "cell_type": "markdown",
   "id": "28fca4ae",
   "metadata": {},
   "source": [
    "Подберём количество нейронов"
   ]
  },
  {
   "cell_type": "code",
   "execution_count": 60,
   "id": "a34c7b0b",
   "metadata": {},
   "outputs": [],
   "source": [
    "neuron_count_array = numpy.linspace(1, 800, 24).astype(int)\n",
    "test_error = []\n",
    "train_error = []\n",
    "for neuron_count in neuron_count_array:\n",
    "    model = MLPClassifier(\n",
    "        hidden_layer_sizes = (neuron_count,),\n",
    "        solver = 'sgd',\n",
    "        activation = 'logistic',\n",
    "        max_iter = 1000,\n",
    "        random_state = 66,\n",
    "        alpha = alpha_opt\n",
    "    )\n",
    "    \n",
    "    model.fit(X_train, y_train)\n",
    "    y_train_pred = model.predict(X_train)\n",
    "    y_test_pred = model.predict(X_test)\n",
    "    test_error.append(numpy.mean(y_test != y_test_pred))\n",
    "    train_error.append(numpy.mean(y_train != y_train_pred))"
   ]
  },
  {
   "cell_type": "code",
   "execution_count": 61,
   "id": "e6d398a0",
   "metadata": {},
   "outputs": [
    {
     "data": {
      "image/png": "[encoded data removed]",
      "text/plain": [
       "<Figure size 432x288 with 1 Axes>"
      ]
     },
     "metadata": {
      "needs_background": "light"
     },
     "output_type": "display_data"
    }
   ],
   "source": [
    "plt.plot(neuron_count_array, train_error, 'r-o', label='train')\n",
    "plt.plot(neuron_count_array, test_error, 'b-o', label='test')\n",
    "plt.xlim([numpy.min(neuron_count_array), numpy.max(neuron_count_array)])\n",
    "plt.xlabel('neuron count')\n",
    "plt.ylabel('error')\n",
    "plt.legend()\n",
    "pass"
   ]
  },
  {
   "cell_type": "code",
   "execution_count": 62,
   "id": "036d7767",
   "metadata": {},
   "outputs": [
    {
     "name": "stdout",
     "output_type": "stream",
     "text": [
      "Optimal neuron count: 522\n"
     ]
    }
   ],
   "source": [
    "min_test_error = np.min(test_error)\n",
    "neuron_count_optimal = neuron_count_array[test_error == min_test_error][0]\n",
    "print('Optimal neuron count: {}'.format(neuron_count_optimal))"
   ]
  },
  {
   "cell_type": "markdown",
   "id": "31c4108c",
   "metadata": {},
   "source": [
    "Получили точность на тренировочной и тестовой выборе примерно 77%. Переобучения не наблюдается, но наблюдается недообучение (на тренировочной выборке большая ошибка). С помощью KNN результаты были получены немного лучше, чем здесь. Были найдены оптимальные значения $\\alpha = 0.01$ и количества нейронов равное 522."
   ]
  },
  {
   "cell_type": "code",
   "execution_count": null,
   "id": "7c73ebae",
   "metadata": {},
   "outputs": [],
   "source": []
  }
 ],
 "metadata": {
  "kernelspec": {
   "display_name": "Python 3 (ipykernel)",
   "language": "python",
   "name": "python3"
  },
  "language_info": {
   "codemirror_mode": {
    "name": "ipython",
    "version": 3
   },
   "file_extension": ".py",
   "mimetype": "text/x-python",
   "name": "python",
   "nbconvert_exporter": "python",
   "pygments_lexer": "ipython3",
   "version": "3.9.9"
  }
 },
 "nbformat": 4,
 "nbformat_minor": 5
}
